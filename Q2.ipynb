{
 "cells": [
  {
   "cell_type": "markdown",
   "metadata": {},
   "source": [
    "# Deep Learning\n",
    "## HW3 - Problem 1"
   ]
  },
  {
   "cell_type": "markdown",
   "metadata": {},
   "source": [
    "\n",
    "1.   Full Name: Amir Mohammad Yaghoobian zadeh\n",
    "2.   Student Number: 401300525\n",
    "\n"
   ]
  },
  {
   "cell_type": "code",
   "execution_count": 1,
   "metadata": {
    "pycharm": {
     "is_executing": true,
     "name": "#%%\n"
    }
   },
   "outputs": [
    {
     "name": "stderr",
     "output_type": "stream",
     "text": [
      "e:\\project\\ann\\new\\lib\\site-packages\\torchvision\\io\\image.py:11: UserWarning: Failed to load image Python extension: [WinError 126] The specified module could not be found\n",
      "  warn(f\"Failed to load image Python extension: {e}\")\n"
     ]
    }
   ],
   "source": [
    "\n",
    "import numpy as np\n",
    "import matplotlib.pyplot as plt\n",
    "import pandas as pd\n",
    "import torch\n",
    "from torchvision import datasets\n",
    "import torch.nn as nn\n",
    "from torch.utils.data import Dataset, DataLoader\n",
    "\n",
    "import os\n",
    "import cv2\n",
    "import tqdm\n",
    "import torchvision\n",
    "from torchvision.transforms import transforms, Lambda"
   ]
  },
  {
   "cell_type": "markdown",
   "metadata": {},
   "source": [
    "#part A"
   ]
  },
  {
   "cell_type": "code",
   "execution_count": 2,
   "metadata": {
    "pycharm": {
     "is_executing": true,
     "name": "#%%\n"
    },
    "scrolled": true
   },
   "outputs": [],
   "source": [
    "Resnet50 = torchvision.models.resnet50(pretrained=True, progress=True)\n",
    "Resnet18 = torchvision.models.resnet18(pretrained=True, progress=True)\n"
   ]
  },
  {
   "cell_type": "code",
   "execution_count": 8,
   "metadata": {
    "pycharm": {
     "is_executing": true
    }
   },
   "outputs": [
    {
     "name": "stdout",
     "output_type": "stream",
     "text": [
      "Files already downloaded and verified\n",
      "Files already downloaded and verified\n"
     ]
    }
   ],
   "source": [
    "\n",
    "transform_train = transforms.Compose([transforms.Resize((32,32)),  #resises the image so it can be perfect for our model.\n",
    "                                      transforms.RandomHorizontalFlip(), # FLips the image w.r.t horizontal axis\n",
    "                                      transforms.RandomRotation(10),     #Rotates the image to a specified angel\n",
    "                                      transforms.RandomAffine(0, shear=10, scale=(0.8,1.2)), #Performs actions like zooms, change shear angles.\n",
    "                                      transforms.ColorJitter(brightness=0.2, contrast=0.2, saturation=0.2), # Set the color params\n",
    "                                      transforms.ToTensor(), # comvert the image to tensor so that it can work with torch\n",
    "                                      transforms.Normalize((0.5, 0.5, 0.5), (0.5, 0.5, 0.5)) #Normalize all the images\n",
    "                               ])\n",
    " \n",
    " \n",
    "transform = transforms.Compose([transforms.Resize((32,32)),\n",
    "                               transforms.ToTensor(),\n",
    "                               transforms.Normalize((0.5, 0.5, 0.5), (0.5, 0.5, 0.5))\n",
    "                               ])\n",
    "\n",
    "# CIFAR-10 dataset\n",
    "train_dataset = torchvision.datasets.CIFAR10(root='/cifar10/',\n",
    "                                             train=True, \n",
    "                                             transform=transform_train,\n",
    "                                             target_transform= Lambda(lambda y: torch.zeros(10, dtype=torch.float).scatter_(dim=0, index=torch.tensor(y), value=1)),\n",
    "                                             download=True)\n",
    "\n",
    "test_dataset = torchvision.datasets.CIFAR10(root='./cifar10/',\n",
    "                                            train=False, \n",
    "#                                             transform=transforms.ToTensor(),\n",
    "                                            transform = transform,\n",
    "                                            target_transform= Lambda(lambda y: torch.zeros(10, dtype=torch.float).scatter_(dim=0, index=torch.tensor(y), value=1)),\n",
    "                                            download=True)\n",
    "\n",
    "# Data loader\n",
    "train_dataloader = torch.utils.data.DataLoader(dataset=train_dataset,\n",
    "                                           batch_size=128, \n",
    "                                           shuffle=True)\n",
    "\n",
    "test_dataloader = torch.utils.data.DataLoader(dataset=test_dataset,\n",
    "                                          batch_size=128, \n",
    "                                          shuffle=False)\n"
   ]
  },
  {
   "cell_type": "code",
   "execution_count": 4,
   "metadata": {
    "pycharm": {
     "is_executing": true,
     "name": "#%%\n"
    }
   },
   "outputs": [],
   "source": [
    "def train_loop(data_loader, model, loss_func, optimizer, device):\n",
    "  size = len(data_loader.dataset)\n",
    "  num_batch = len(data_loader)\n",
    "  train_loss, correct = 0, 0\n",
    "  model.train()\n",
    "  \n",
    "  for batch ,(X,y) in enumerate(data_loader):\n",
    "    X = X.to(device)\n",
    "    y = y.to(device)\n",
    "    \n",
    "    pred = model(X)\n",
    "    loss = loss_func(pred,y)\n",
    "    train_loss += loss.item()\n",
    "    \n",
    "    temp1, temp2 = y.argmax(1), pred.argmax(1)   \n",
    "    correct += (temp1 == temp2).type(torch.float).sum().item()\n",
    "    \n",
    "    # Back propagation\n",
    "    optimizer.zero_grad()\n",
    "    loss.backward()\n",
    "    optimizer.step()\n",
    "\n",
    "\n",
    "  train_loss /= num_batch\n",
    "  correct /= size\n",
    "\n",
    "  print(f\"train error:\\n Accuracy: {(100*correct):>0.1f}%, Average loss: {train_loss:>8f}\")\n",
    "  return train_loss, correct\n",
    "\n",
    "\n",
    "\n",
    "def test_loop(data_loader, model, loss_func, device):\n",
    "  size = len(data_loader.dataset)\n",
    "  num_batch = len(data_loader)\n",
    "\n",
    "  test_loss, correct = 0, 0\n",
    "\n",
    "  with torch.no_grad():\n",
    "    for X, y in data_loader:\n",
    "        X = X.to(device)\n",
    "        y = y.to(device)\n",
    "    \n",
    "        pred = model(X)\n",
    "        test_loss += loss_func(pred,y).item()\n",
    "        \n",
    "        temp1, temp2 = y.argmax(1), pred.argmax(1)\n",
    "        correct += (temp1 == temp2).type(torch.float).sum().item()\n",
    "\n",
    "  test_loss /= num_batch\n",
    "  correct /= size\n",
    "\n",
    "  print(f\"test error:\\n Accuracy: {(100*correct):>0.1f}%, Average loss: {test_loss:>8f} \\n\")\n",
    "  return test_loss, correct"
   ]
  },
  {
   "cell_type": "code",
   "execution_count": 5,
   "metadata": {
    "pycharm": {
     "is_executing": true,
     "name": "#%%\n"
    }
   },
   "outputs": [
    {
     "name": "stdout",
     "output_type": "stream",
     "text": [
      "cuda:0\n"
     ]
    }
   ],
   "source": [
    "device = 'cuda:0' if torch.cuda.is_available() else 'cpu'\n",
    "print(device)\n"
   ]
  },
  {
   "cell_type": "code",
   "execution_count": 10,
   "metadata": {
    "pycharm": {
     "is_executing": true
    },
    "scrolled": false
   },
   "outputs": [
    {
     "name": "stdout",
     "output_type": "stream",
     "text": [
      "Epoch: 1\n",
      "train error:\n",
      " Accuracy: 44.0%, Average loss: 1.613603\n",
      "test error:\n",
      " Accuracy: 48.5%, Average loss: 1.482904 \n",
      "\n",
      "Epoch: 2\n",
      "train error:\n",
      " Accuracy: 44.3%, Average loss: 1.611303\n",
      "test error:\n",
      " Accuracy: 48.8%, Average loss: 1.481307 \n",
      "\n",
      "Epoch: 3\n",
      "train error:\n",
      " Accuracy: 43.8%, Average loss: 1.612951\n",
      "test error:\n",
      " Accuracy: 49.0%, Average loss: 1.478804 \n",
      "\n",
      "Epoch: 4\n",
      "train error:\n",
      " Accuracy: 43.7%, Average loss: 1.616584\n",
      "test error:\n",
      " Accuracy: 48.8%, Average loss: 1.484746 \n",
      "\n",
      "Epoch: 5\n"
     ]
    },
    {
     "ename": "KeyboardInterrupt",
     "evalue": "",
     "output_type": "error",
     "traceback": [
      "\u001b[1;31m---------------------------------------------------------------------------\u001b[0m",
      "\u001b[1;31mKeyboardInterrupt\u001b[0m                         Traceback (most recent call last)",
      "\u001b[1;32m<ipython-input-10-234e34ae6612>\u001b[0m in \u001b[0;36m<module>\u001b[1;34m\u001b[0m\n\u001b[0;32m     16\u001b[0m \u001b[1;32mfor\u001b[0m \u001b[0mepoch\u001b[0m \u001b[1;32min\u001b[0m \u001b[0mrange\u001b[0m\u001b[1;33m(\u001b[0m\u001b[0mepochs\u001b[0m\u001b[1;33m)\u001b[0m\u001b[1;33m:\u001b[0m\u001b[1;33m\u001b[0m\u001b[0m\n\u001b[0;32m     17\u001b[0m   \u001b[0mprint\u001b[0m\u001b[1;33m(\u001b[0m\u001b[1;34mf\"Epoch: {epoch+1}\"\u001b[0m\u001b[1;33m)\u001b[0m\u001b[1;33m\u001b[0m\u001b[0m\n\u001b[1;32m---> 18\u001b[1;33m   \u001b[0mtrain_loss\u001b[0m\u001b[1;33m,\u001b[0m \u001b[0mtrain_acc\u001b[0m \u001b[1;33m=\u001b[0m \u001b[0mtrain_loop\u001b[0m\u001b[1;33m(\u001b[0m\u001b[0mtrain_dataloader\u001b[0m\u001b[1;33m,\u001b[0m \u001b[0mResnet50\u001b[0m\u001b[1;33m,\u001b[0m \u001b[0mloss_func\u001b[0m\u001b[1;33m,\u001b[0m \u001b[0moptimizer\u001b[0m\u001b[1;33m,\u001b[0m \u001b[0mdevice\u001b[0m\u001b[1;33m)\u001b[0m\u001b[1;33m\u001b[0m\u001b[0m\n\u001b[0m\u001b[0;32m     19\u001b[0m   \u001b[0mtest_loss\u001b[0m\u001b[1;33m,\u001b[0m \u001b[0mtest_acc\u001b[0m \u001b[1;33m=\u001b[0m \u001b[0mtest_loop\u001b[0m\u001b[1;33m(\u001b[0m\u001b[0mtest_dataloader\u001b[0m\u001b[1;33m,\u001b[0m \u001b[0mResnet50\u001b[0m\u001b[1;33m,\u001b[0m \u001b[0mloss_func\u001b[0m\u001b[1;33m,\u001b[0m \u001b[0mdevice\u001b[0m\u001b[1;33m)\u001b[0m\u001b[1;33m\u001b[0m\u001b[0m\n\u001b[0;32m     20\u001b[0m \u001b[1;33m\u001b[0m\u001b[0m\n",
      "\u001b[1;32m<ipython-input-4-e5340cb528ec>\u001b[0m in \u001b[0;36mtrain_loop\u001b[1;34m(data_loader, model, loss_func, optimizer, device)\u001b[0m\n\u001b[0;32m      5\u001b[0m   \u001b[0mmodel\u001b[0m\u001b[1;33m.\u001b[0m\u001b[0mtrain\u001b[0m\u001b[1;33m(\u001b[0m\u001b[1;33m)\u001b[0m\u001b[1;33m\u001b[0m\u001b[0m\n\u001b[0;32m      6\u001b[0m \u001b[1;33m\u001b[0m\u001b[0m\n\u001b[1;32m----> 7\u001b[1;33m   \u001b[1;32mfor\u001b[0m \u001b[0mbatch\u001b[0m \u001b[1;33m,\u001b[0m\u001b[1;33m(\u001b[0m\u001b[0mX\u001b[0m\u001b[1;33m,\u001b[0m\u001b[0my\u001b[0m\u001b[1;33m)\u001b[0m \u001b[1;32min\u001b[0m \u001b[0menumerate\u001b[0m\u001b[1;33m(\u001b[0m\u001b[0mdata_loader\u001b[0m\u001b[1;33m)\u001b[0m\u001b[1;33m:\u001b[0m\u001b[1;33m\u001b[0m\u001b[0m\n\u001b[0m\u001b[0;32m      8\u001b[0m     \u001b[0mX\u001b[0m \u001b[1;33m=\u001b[0m \u001b[0mX\u001b[0m\u001b[1;33m.\u001b[0m\u001b[0mto\u001b[0m\u001b[1;33m(\u001b[0m\u001b[0mdevice\u001b[0m\u001b[1;33m)\u001b[0m\u001b[1;33m\u001b[0m\u001b[0m\n\u001b[0;32m      9\u001b[0m     \u001b[0my\u001b[0m \u001b[1;33m=\u001b[0m \u001b[0my\u001b[0m\u001b[1;33m.\u001b[0m\u001b[0mto\u001b[0m\u001b[1;33m(\u001b[0m\u001b[0mdevice\u001b[0m\u001b[1;33m)\u001b[0m\u001b[1;33m\u001b[0m\u001b[0m\n",
      "\u001b[1;32me:\\project\\ann\\new\\lib\\site-packages\\torch\\utils\\data\\dataloader.py\u001b[0m in \u001b[0;36m__next__\u001b[1;34m(self)\u001b[0m\n\u001b[0;32m    519\u001b[0m             \u001b[1;32mif\u001b[0m \u001b[0mself\u001b[0m\u001b[1;33m.\u001b[0m\u001b[0m_sampler_iter\u001b[0m \u001b[1;32mis\u001b[0m \u001b[1;32mNone\u001b[0m\u001b[1;33m:\u001b[0m\u001b[1;33m\u001b[0m\u001b[0m\n\u001b[0;32m    520\u001b[0m                 \u001b[0mself\u001b[0m\u001b[1;33m.\u001b[0m\u001b[0m_reset\u001b[0m\u001b[1;33m(\u001b[0m\u001b[1;33m)\u001b[0m\u001b[1;33m\u001b[0m\u001b[0m\n\u001b[1;32m--> 521\u001b[1;33m             \u001b[0mdata\u001b[0m \u001b[1;33m=\u001b[0m \u001b[0mself\u001b[0m\u001b[1;33m.\u001b[0m\u001b[0m_next_data\u001b[0m\u001b[1;33m(\u001b[0m\u001b[1;33m)\u001b[0m\u001b[1;33m\u001b[0m\u001b[0m\n\u001b[0m\u001b[0;32m    522\u001b[0m             \u001b[0mself\u001b[0m\u001b[1;33m.\u001b[0m\u001b[0m_num_yielded\u001b[0m \u001b[1;33m+=\u001b[0m \u001b[1;36m1\u001b[0m\u001b[1;33m\u001b[0m\u001b[0m\n\u001b[0;32m    523\u001b[0m             \u001b[1;32mif\u001b[0m \u001b[0mself\u001b[0m\u001b[1;33m.\u001b[0m\u001b[0m_dataset_kind\u001b[0m \u001b[1;33m==\u001b[0m \u001b[0m_DatasetKind\u001b[0m\u001b[1;33m.\u001b[0m\u001b[0mIterable\u001b[0m \u001b[1;32mand\u001b[0m\u001b[0;31m \u001b[0m\u001b[0;31m\\\u001b[0m\u001b[1;33m\u001b[0m\u001b[0m\n",
      "\u001b[1;32me:\\project\\ann\\new\\lib\\site-packages\\torch\\utils\\data\\dataloader.py\u001b[0m in \u001b[0;36m_next_data\u001b[1;34m(self)\u001b[0m\n\u001b[0;32m    559\u001b[0m     \u001b[1;32mdef\u001b[0m \u001b[0m_next_data\u001b[0m\u001b[1;33m(\u001b[0m\u001b[0mself\u001b[0m\u001b[1;33m)\u001b[0m\u001b[1;33m:\u001b[0m\u001b[1;33m\u001b[0m\u001b[0m\n\u001b[0;32m    560\u001b[0m         \u001b[0mindex\u001b[0m \u001b[1;33m=\u001b[0m \u001b[0mself\u001b[0m\u001b[1;33m.\u001b[0m\u001b[0m_next_index\u001b[0m\u001b[1;33m(\u001b[0m\u001b[1;33m)\u001b[0m  \u001b[1;31m# may raise StopIteration\u001b[0m\u001b[1;33m\u001b[0m\u001b[0m\n\u001b[1;32m--> 561\u001b[1;33m         \u001b[0mdata\u001b[0m \u001b[1;33m=\u001b[0m \u001b[0mself\u001b[0m\u001b[1;33m.\u001b[0m\u001b[0m_dataset_fetcher\u001b[0m\u001b[1;33m.\u001b[0m\u001b[0mfetch\u001b[0m\u001b[1;33m(\u001b[0m\u001b[0mindex\u001b[0m\u001b[1;33m)\u001b[0m  \u001b[1;31m# may raise StopIteration\u001b[0m\u001b[1;33m\u001b[0m\u001b[0m\n\u001b[0m\u001b[0;32m    562\u001b[0m         \u001b[1;32mif\u001b[0m \u001b[0mself\u001b[0m\u001b[1;33m.\u001b[0m\u001b[0m_pin_memory\u001b[0m\u001b[1;33m:\u001b[0m\u001b[1;33m\u001b[0m\u001b[0m\n\u001b[0;32m    563\u001b[0m             \u001b[0mdata\u001b[0m \u001b[1;33m=\u001b[0m \u001b[0m_utils\u001b[0m\u001b[1;33m.\u001b[0m\u001b[0mpin_memory\u001b[0m\u001b[1;33m.\u001b[0m\u001b[0mpin_memory\u001b[0m\u001b[1;33m(\u001b[0m\u001b[0mdata\u001b[0m\u001b[1;33m)\u001b[0m\u001b[1;33m\u001b[0m\u001b[0m\n",
      "\u001b[1;32me:\\project\\ann\\new\\lib\\site-packages\\torch\\utils\\data\\_utils\\fetch.py\u001b[0m in \u001b[0;36mfetch\u001b[1;34m(self, possibly_batched_index)\u001b[0m\n\u001b[0;32m     47\u001b[0m     \u001b[1;32mdef\u001b[0m \u001b[0mfetch\u001b[0m\u001b[1;33m(\u001b[0m\u001b[0mself\u001b[0m\u001b[1;33m,\u001b[0m \u001b[0mpossibly_batched_index\u001b[0m\u001b[1;33m)\u001b[0m\u001b[1;33m:\u001b[0m\u001b[1;33m\u001b[0m\u001b[0m\n\u001b[0;32m     48\u001b[0m         \u001b[1;32mif\u001b[0m \u001b[0mself\u001b[0m\u001b[1;33m.\u001b[0m\u001b[0mauto_collation\u001b[0m\u001b[1;33m:\u001b[0m\u001b[1;33m\u001b[0m\u001b[0m\n\u001b[1;32m---> 49\u001b[1;33m             \u001b[0mdata\u001b[0m \u001b[1;33m=\u001b[0m \u001b[1;33m[\u001b[0m\u001b[0mself\u001b[0m\u001b[1;33m.\u001b[0m\u001b[0mdataset\u001b[0m\u001b[1;33m[\u001b[0m\u001b[0midx\u001b[0m\u001b[1;33m]\u001b[0m \u001b[1;32mfor\u001b[0m \u001b[0midx\u001b[0m \u001b[1;32min\u001b[0m \u001b[0mpossibly_batched_index\u001b[0m\u001b[1;33m]\u001b[0m\u001b[1;33m\u001b[0m\u001b[0m\n\u001b[0m\u001b[0;32m     50\u001b[0m         \u001b[1;32melse\u001b[0m\u001b[1;33m:\u001b[0m\u001b[1;33m\u001b[0m\u001b[0m\n\u001b[0;32m     51\u001b[0m             \u001b[0mdata\u001b[0m \u001b[1;33m=\u001b[0m \u001b[0mself\u001b[0m\u001b[1;33m.\u001b[0m\u001b[0mdataset\u001b[0m\u001b[1;33m[\u001b[0m\u001b[0mpossibly_batched_index\u001b[0m\u001b[1;33m]\u001b[0m\u001b[1;33m\u001b[0m\u001b[0m\n",
      "\u001b[1;32me:\\project\\ann\\new\\lib\\site-packages\\torch\\utils\\data\\_utils\\fetch.py\u001b[0m in \u001b[0;36m<listcomp>\u001b[1;34m(.0)\u001b[0m\n\u001b[0;32m     47\u001b[0m     \u001b[1;32mdef\u001b[0m \u001b[0mfetch\u001b[0m\u001b[1;33m(\u001b[0m\u001b[0mself\u001b[0m\u001b[1;33m,\u001b[0m \u001b[0mpossibly_batched_index\u001b[0m\u001b[1;33m)\u001b[0m\u001b[1;33m:\u001b[0m\u001b[1;33m\u001b[0m\u001b[0m\n\u001b[0;32m     48\u001b[0m         \u001b[1;32mif\u001b[0m \u001b[0mself\u001b[0m\u001b[1;33m.\u001b[0m\u001b[0mauto_collation\u001b[0m\u001b[1;33m:\u001b[0m\u001b[1;33m\u001b[0m\u001b[0m\n\u001b[1;32m---> 49\u001b[1;33m             \u001b[0mdata\u001b[0m \u001b[1;33m=\u001b[0m \u001b[1;33m[\u001b[0m\u001b[0mself\u001b[0m\u001b[1;33m.\u001b[0m\u001b[0mdataset\u001b[0m\u001b[1;33m[\u001b[0m\u001b[0midx\u001b[0m\u001b[1;33m]\u001b[0m \u001b[1;32mfor\u001b[0m \u001b[0midx\u001b[0m \u001b[1;32min\u001b[0m \u001b[0mpossibly_batched_index\u001b[0m\u001b[1;33m]\u001b[0m\u001b[1;33m\u001b[0m\u001b[0m\n\u001b[0m\u001b[0;32m     50\u001b[0m         \u001b[1;32melse\u001b[0m\u001b[1;33m:\u001b[0m\u001b[1;33m\u001b[0m\u001b[0m\n\u001b[0;32m     51\u001b[0m             \u001b[0mdata\u001b[0m \u001b[1;33m=\u001b[0m \u001b[0mself\u001b[0m\u001b[1;33m.\u001b[0m\u001b[0mdataset\u001b[0m\u001b[1;33m[\u001b[0m\u001b[0mpossibly_batched_index\u001b[0m\u001b[1;33m]\u001b[0m\u001b[1;33m\u001b[0m\u001b[0m\n",
      "\u001b[1;32me:\\project\\ann\\new\\lib\\site-packages\\torchvision\\datasets\\cifar.py\u001b[0m in \u001b[0;36m__getitem__\u001b[1;34m(self, index)\u001b[0m\n\u001b[0;32m    116\u001b[0m         \u001b[1;31m# doing this so that it is consistent with all other datasets\u001b[0m\u001b[1;33m\u001b[0m\u001b[1;33m\u001b[0m\u001b[0m\n\u001b[0;32m    117\u001b[0m         \u001b[1;31m# to return a PIL Image\u001b[0m\u001b[1;33m\u001b[0m\u001b[1;33m\u001b[0m\u001b[0m\n\u001b[1;32m--> 118\u001b[1;33m         \u001b[0mimg\u001b[0m \u001b[1;33m=\u001b[0m \u001b[0mImage\u001b[0m\u001b[1;33m.\u001b[0m\u001b[0mfromarray\u001b[0m\u001b[1;33m(\u001b[0m\u001b[0mimg\u001b[0m\u001b[1;33m)\u001b[0m\u001b[1;33m\u001b[0m\u001b[0m\n\u001b[0m\u001b[0;32m    119\u001b[0m \u001b[1;33m\u001b[0m\u001b[0m\n\u001b[0;32m    120\u001b[0m         \u001b[1;32mif\u001b[0m \u001b[0mself\u001b[0m\u001b[1;33m.\u001b[0m\u001b[0mtransform\u001b[0m \u001b[1;32mis\u001b[0m \u001b[1;32mnot\u001b[0m \u001b[1;32mNone\u001b[0m\u001b[1;33m:\u001b[0m\u001b[1;33m\u001b[0m\u001b[0m\n",
      "\u001b[1;32me:\\project\\ann\\new\\lib\\site-packages\\PIL\\Image.py\u001b[0m in \u001b[0;36mfromarray\u001b[1;34m(obj, mode)\u001b[0m\n\u001b[0;32m   2768\u001b[0m             \u001b[0mobj\u001b[0m \u001b[1;33m=\u001b[0m \u001b[0mobj\u001b[0m\u001b[1;33m.\u001b[0m\u001b[0mtostring\u001b[0m\u001b[1;33m(\u001b[0m\u001b[1;33m)\u001b[0m\u001b[1;33m\u001b[0m\u001b[0m\n\u001b[0;32m   2769\u001b[0m \u001b[1;33m\u001b[0m\u001b[0m\n\u001b[1;32m-> 2770\u001b[1;33m     \u001b[1;32mreturn\u001b[0m \u001b[0mfrombuffer\u001b[0m\u001b[1;33m(\u001b[0m\u001b[0mmode\u001b[0m\u001b[1;33m,\u001b[0m \u001b[0msize\u001b[0m\u001b[1;33m,\u001b[0m \u001b[0mobj\u001b[0m\u001b[1;33m,\u001b[0m \u001b[1;34m\"raw\"\u001b[0m\u001b[1;33m,\u001b[0m \u001b[0mrawmode\u001b[0m\u001b[1;33m,\u001b[0m \u001b[1;36m0\u001b[0m\u001b[1;33m,\u001b[0m \u001b[1;36m1\u001b[0m\u001b[1;33m)\u001b[0m\u001b[1;33m\u001b[0m\u001b[0m\n\u001b[0m\u001b[0;32m   2771\u001b[0m \u001b[1;33m\u001b[0m\u001b[0m\n\u001b[0;32m   2772\u001b[0m \u001b[1;33m\u001b[0m\u001b[0m\n",
      "\u001b[1;32me:\\project\\ann\\new\\lib\\site-packages\\PIL\\Image.py\u001b[0m in \u001b[0;36mfrombuffer\u001b[1;34m(mode, size, data, decoder_name, *args)\u001b[0m\n\u001b[0;32m   2708\u001b[0m             \u001b[1;32mreturn\u001b[0m \u001b[0mim\u001b[0m\u001b[1;33m\u001b[0m\u001b[0m\n\u001b[0;32m   2709\u001b[0m \u001b[1;33m\u001b[0m\u001b[0m\n\u001b[1;32m-> 2710\u001b[1;33m     \u001b[1;32mreturn\u001b[0m \u001b[0mfrombytes\u001b[0m\u001b[1;33m(\u001b[0m\u001b[0mmode\u001b[0m\u001b[1;33m,\u001b[0m \u001b[0msize\u001b[0m\u001b[1;33m,\u001b[0m \u001b[0mdata\u001b[0m\u001b[1;33m,\u001b[0m \u001b[0mdecoder_name\u001b[0m\u001b[1;33m,\u001b[0m \u001b[0margs\u001b[0m\u001b[1;33m)\u001b[0m\u001b[1;33m\u001b[0m\u001b[0m\n\u001b[0m\u001b[0;32m   2711\u001b[0m \u001b[1;33m\u001b[0m\u001b[0m\n\u001b[0;32m   2712\u001b[0m \u001b[1;33m\u001b[0m\u001b[0m\n",
      "\u001b[1;32me:\\project\\ann\\new\\lib\\site-packages\\PIL\\Image.py\u001b[0m in \u001b[0;36mfrombytes\u001b[1;34m(mode, size, data, decoder_name, *args)\u001b[0m\n\u001b[0;32m   2648\u001b[0m \u001b[1;33m\u001b[0m\u001b[0m\n\u001b[0;32m   2649\u001b[0m     \u001b[0mim\u001b[0m \u001b[1;33m=\u001b[0m \u001b[0mnew\u001b[0m\u001b[1;33m(\u001b[0m\u001b[0mmode\u001b[0m\u001b[1;33m,\u001b[0m \u001b[0msize\u001b[0m\u001b[1;33m)\u001b[0m\u001b[1;33m\u001b[0m\u001b[0m\n\u001b[1;32m-> 2650\u001b[1;33m     \u001b[0mim\u001b[0m\u001b[1;33m.\u001b[0m\u001b[0mfrombytes\u001b[0m\u001b[1;33m(\u001b[0m\u001b[0mdata\u001b[0m\u001b[1;33m,\u001b[0m \u001b[0mdecoder_name\u001b[0m\u001b[1;33m,\u001b[0m \u001b[0margs\u001b[0m\u001b[1;33m)\u001b[0m\u001b[1;33m\u001b[0m\u001b[0m\n\u001b[0m\u001b[0;32m   2651\u001b[0m     \u001b[1;32mreturn\u001b[0m \u001b[0mim\u001b[0m\u001b[1;33m\u001b[0m\u001b[0m\n\u001b[0;32m   2652\u001b[0m \u001b[1;33m\u001b[0m\u001b[0m\n",
      "\u001b[1;32me:\\project\\ann\\new\\lib\\site-packages\\PIL\\Image.py\u001b[0m in \u001b[0;36mfrombytes\u001b[1;34m(self, data, decoder_name, *args)\u001b[0m\n\u001b[0;32m    796\u001b[0m         \u001b[0md\u001b[0m \u001b[1;33m=\u001b[0m \u001b[0m_getdecoder\u001b[0m\u001b[1;33m(\u001b[0m\u001b[0mself\u001b[0m\u001b[1;33m.\u001b[0m\u001b[0mmode\u001b[0m\u001b[1;33m,\u001b[0m \u001b[0mdecoder_name\u001b[0m\u001b[1;33m,\u001b[0m \u001b[0margs\u001b[0m\u001b[1;33m)\u001b[0m\u001b[1;33m\u001b[0m\u001b[0m\n\u001b[0;32m    797\u001b[0m         \u001b[0md\u001b[0m\u001b[1;33m.\u001b[0m\u001b[0msetimage\u001b[0m\u001b[1;33m(\u001b[0m\u001b[0mself\u001b[0m\u001b[1;33m.\u001b[0m\u001b[0mim\u001b[0m\u001b[1;33m)\u001b[0m\u001b[1;33m\u001b[0m\u001b[0m\n\u001b[1;32m--> 798\u001b[1;33m         \u001b[0ms\u001b[0m \u001b[1;33m=\u001b[0m \u001b[0md\u001b[0m\u001b[1;33m.\u001b[0m\u001b[0mdecode\u001b[0m\u001b[1;33m(\u001b[0m\u001b[0mdata\u001b[0m\u001b[1;33m)\u001b[0m\u001b[1;33m\u001b[0m\u001b[0m\n\u001b[0m\u001b[0;32m    799\u001b[0m \u001b[1;33m\u001b[0m\u001b[0m\n\u001b[0;32m    800\u001b[0m         \u001b[1;32mif\u001b[0m \u001b[0ms\u001b[0m\u001b[1;33m[\u001b[0m\u001b[1;36m0\u001b[0m\u001b[1;33m]\u001b[0m \u001b[1;33m>=\u001b[0m \u001b[1;36m0\u001b[0m\u001b[1;33m:\u001b[0m\u001b[1;33m\u001b[0m\u001b[0m\n",
      "\u001b[1;31mKeyboardInterrupt\u001b[0m: "
     ]
    }
   ],
   "source": [
    "Resnet50.fc = nn.Linear(2048, 10)\n",
    "Resnet50.to(device)\n",
    "\n",
    "best_acc = 0\n",
    "epochs = 10\n",
    "\n",
    "for param in Resnet50.parameters():\n",
    "    param.requires_grad = False\n",
    "for param in Resnet50.fc.parameters():\n",
    "    param.requires_grad = True\n",
    "\n",
    "loss_func = nn.CrossEntropyLoss()\n",
    "optimizer = torch.optim.Adam(Resnet50.parameters())\n",
    "\n",
    "\n",
    "for epoch in range(epochs):\n",
    "  print(f\"Epoch: {epoch+1}\")\n",
    "  train_loss, train_acc = train_loop(train_dataloader, Resnet50, loss_func, optimizer, device)\n",
    "  test_loss, test_acc = test_loop(test_dataloader, Resnet50, loss_func, device)\n",
    "\n",
    "\n",
    "  if test_acc > best_acc:\n",
    "    best_acc = test_acc\n",
    "    torch.save(Resnet50.state_dict(), 'best_Resnet50_model_cifar10_finetune_last_layer.pt')\n"
   ]
  },
  {
   "cell_type": "code",
   "execution_count": 17,
   "metadata": {},
   "outputs": [
    {
     "name": "stdout",
     "output_type": "stream",
     "text": [
      "test error:\n",
      " Accuracy: 47.3%, Average loss: 1.535956 \n",
      "\n"
     ]
    }
   ],
   "source": [
    "Resnet50 = torchvision.models.resnet50(pretrained=True, progress=True)\n",
    "Resnet50.fc = nn.Linear(2048, 10)\n",
    "Resnet50.load_state_dict(torch.load('best_Resnet50_model_cifar10_finetune_last_layer.pt'))\n",
    "Resnet50.to(device)\n",
    "\n",
    "test_loss, test_acc = test_loop(test_dataloader, Resnet50, loss_func, device)\n"
   ]
  },
  {
   "cell_type": "markdown",
   "metadata": {},
   "source": [
    "# part B: knowledge distillation"
   ]
  },
  {
   "cell_type": "code",
   "execution_count": 22,
   "metadata": {
    "pycharm": {
     "is_executing": true
    }
   },
   "outputs": [],
   "source": [
    "def train_distillation(data_loader, teacher_model, student_model, loss_func, optimizer, device):\n",
    "  size = len(data_loader.dataset)\n",
    "  num_batch = len(data_loader)\n",
    "\n",
    "  train_loss, correct = 0, 0\n",
    "\n",
    "  for batch ,(X,y) in enumerate(data_loader):\n",
    "    X = X.to(device)\n",
    "    y = y.to(device)\n",
    "    \n",
    "    score = teacher_model(X)\n",
    "    pred = student_model(X)\n",
    "    \n",
    "    loss = loss_func(score, pred, y)\n",
    "    train_loss += loss.item()\n",
    "    \n",
    "    temp1, temp2 = y.argmax(1), pred.argmax(1)   \n",
    "    correct += (temp1 == temp2).type(torch.float).sum().item()\n",
    "    \n",
    "    # Back propagation\n",
    "    optimizer.zero_grad()\n",
    "    loss.backward()\n",
    "    optimizer.step()\n",
    "\n",
    "\n",
    "  train_loss /= num_batch\n",
    "  correct /= size\n",
    "\n",
    "  print(f\"train error:\\n Accuracy: {(100*correct):>0.1f}%, Average loss: {train_loss:>8f}\")\n",
    "  return train_loss, correct\n",
    "\n",
    "\n",
    "\n",
    "def my_distillation_loss(scores, preds, targets, temperature = 6, alpha=0.5):\n",
    "    softmax_op = nn.Softmax()\n",
    "    loss_func = nn.CrossEntropyLoss()\n",
    "    \n",
    "    soft_score = softmax_op(scores / temperature)\n",
    "    soft_pred = softmax_op(preds / temperature)\n",
    "    loss = (1-alpha) * loss_func(softmax_op(preds), targets) + alpha * temperature**2 * loss_func(soft_pred, soft_score)\n",
    "    return loss\n",
    "\n"
   ]
  },
  {
   "cell_type": "code",
   "execution_count": 9,
   "metadata": {
    "pycharm": {
     "is_executing": true
    }
   },
   "outputs": [
    {
     "name": "stdout",
     "output_type": "stream",
     "text": [
      "Epoch: 1\n"
     ]
    },
    {
     "name": "stderr",
     "output_type": "stream",
     "text": [
      "C:\\Users\\amir\\AppData\\Roaming\\Python\\Python37\\site-packages\\ipykernel_launcher.py:38: UserWarning: Implicit dimension choice for softmax has been deprecated. Change the call to include dim=X as an argument.\n",
      "C:\\Users\\amir\\AppData\\Roaming\\Python\\Python37\\site-packages\\ipykernel_launcher.py:39: UserWarning: Implicit dimension choice for softmax has been deprecated. Change the call to include dim=X as an argument.\n",
      "C:\\Users\\amir\\AppData\\Roaming\\Python\\Python37\\site-packages\\ipykernel_launcher.py:40: UserWarning: Implicit dimension choice for softmax has been deprecated. Change the call to include dim=X as an argument.\n"
     ]
    },
    {
     "name": "stdout",
     "output_type": "stream",
     "text": [
      "train error:\n",
      " Accuracy: 48.7%, Average loss: 42.272092\n",
      "test error:\n",
      " Accuracy: 58.1%, Average loss: 2.490658 \n",
      "\n",
      "Epoch: 2\n",
      "train error:\n",
      " Accuracy: 58.0%, Average loss: 42.210319\n",
      "test error:\n",
      " Accuracy: 60.2%, Average loss: 2.459611 \n",
      "\n",
      "Epoch: 3\n",
      "train error:\n",
      " Accuracy: 62.0%, Average loss: 42.186183\n",
      "test error:\n",
      " Accuracy: 66.7%, Average loss: 1.978363 \n",
      "\n",
      "Epoch: 4\n",
      "train error:\n",
      " Accuracy: 64.6%, Average loss: 42.169579\n",
      "test error:\n",
      " Accuracy: 70.7%, Average loss: 1.744897 \n",
      "\n",
      "Epoch: 5\n",
      "train error:\n",
      " Accuracy: 66.4%, Average loss: 42.157840\n",
      "test error:\n",
      " Accuracy: 70.5%, Average loss: 1.686776 \n",
      "\n",
      "Epoch: 6\n",
      "train error:\n",
      " Accuracy: 68.0%, Average loss: 42.148061\n",
      "test error:\n",
      " Accuracy: 71.6%, Average loss: 1.586180 \n",
      "\n",
      "Epoch: 7\n",
      "train error:\n",
      " Accuracy: 69.1%, Average loss: 42.143302\n",
      "test error:\n",
      " Accuracy: 73.1%, Average loss: 1.476059 \n",
      "\n",
      "Epoch: 8\n",
      "train error:\n",
      " Accuracy: 70.2%, Average loss: 42.137502\n",
      "test error:\n",
      " Accuracy: 73.3%, Average loss: 1.491520 \n",
      "\n",
      "Epoch: 9\n",
      "train error:\n",
      " Accuracy: 71.2%, Average loss: 42.130724\n",
      "test error:\n",
      " Accuracy: 73.6%, Average loss: 1.452920 \n",
      "\n",
      "Epoch: 10\n",
      "train error:\n",
      " Accuracy: 71.9%, Average loss: 42.126062\n",
      "test error:\n",
      " Accuracy: 75.1%, Average loss: 1.420615 \n",
      "\n",
      "Epoch: 11\n",
      "train error:\n",
      " Accuracy: 72.8%, Average loss: 42.119513\n",
      "test error:\n",
      " Accuracy: 75.2%, Average loss: 1.453988 \n",
      "\n",
      "Epoch: 12\n",
      "train error:\n",
      " Accuracy: 73.3%, Average loss: 42.117774\n",
      "test error:\n",
      " Accuracy: 75.3%, Average loss: 1.495065 \n",
      "\n",
      "Epoch: 13\n",
      "train error:\n",
      " Accuracy: 74.0%, Average loss: 42.113873\n",
      "test error:\n",
      " Accuracy: 76.1%, Average loss: 1.407881 \n",
      "\n",
      "Epoch: 14\n",
      "train error:\n",
      " Accuracy: 74.6%, Average loss: 42.112556\n",
      "test error:\n",
      " Accuracy: 76.5%, Average loss: 1.413542 \n",
      "\n",
      "Epoch: 15\n",
      "train error:\n",
      " Accuracy: 75.1%, Average loss: 42.106464\n",
      "test error:\n",
      " Accuracy: 76.9%, Average loss: 1.306716 \n",
      "\n",
      "Epoch: 16\n",
      "train error:\n",
      " Accuracy: 75.6%, Average loss: 42.103695\n",
      "test error:\n",
      " Accuracy: 76.8%, Average loss: 1.352662 \n",
      "\n",
      "Epoch: 17\n",
      "train error:\n",
      " Accuracy: 75.8%, Average loss: 42.103869\n",
      "test error:\n",
      " Accuracy: 77.4%, Average loss: 1.319546 \n",
      "\n",
      "Epoch: 18\n",
      "train error:\n",
      " Accuracy: 76.3%, Average loss: 42.100476\n",
      "test error:\n",
      " Accuracy: 77.3%, Average loss: 1.295094 \n",
      "\n",
      "Epoch: 19\n",
      "train error:\n",
      " Accuracy: 76.8%, Average loss: 42.097927\n",
      "test error:\n",
      " Accuracy: 78.1%, Average loss: 1.300357 \n",
      "\n",
      "Epoch: 20\n",
      "train error:\n",
      " Accuracy: 77.3%, Average loss: 42.094623\n",
      "test error:\n",
      " Accuracy: 77.5%, Average loss: 1.354529 \n",
      "\n"
     ]
    }
   ],
   "source": [
    "# set batch size=16\n",
    "Resnet50 = torchvision.models.resnet50(pretrained=True, progress=True)\n",
    "Resnet50.fc = nn.Linear(2048, 10)\n",
    "Resnet50.load_state_dict(torch.load('best_Resnet50_model_cifar10_finetune_last_layer.pt'))\n",
    "\n",
    "Resnet18 = torchvision.models.resnet18(pretrained=True, progress=True)\n",
    "Resnet18.fc = nn.Linear(512, 10)\n",
    "\n",
    "Resnet50.to(device)\n",
    "Resnet18.to(device)\n",
    "\n",
    "for param in Resnet18.parameters():\n",
    "    param.requires_grad = True\n",
    "    \n",
    "loss_func = my_distillation_loss\n",
    "loss_func_BCE = nn.CrossEntropyLoss()\n",
    "\n",
    "optimizer = torch.optim.Adam(Resnet18.parameters())\n",
    "\n",
    "best_acc = 0\n",
    "epochs = 20\n",
    "for epoch in range(epochs):\n",
    "  print(f\"Epoch: {epoch+1}\")\n",
    "  train_loss, train_acc = train_distillation(train_dataloader, Resnet50, Resnet18, loss_func, optimizer, device)\n",
    "  test_loss, test_acc = test_loop(test_dataloader, Resnet18, loss_func_BCE, device)\n",
    "\n",
    "\n",
    "  if test_acc > best_acc:\n",
    "    best_acc = test_acc\n",
    "    torch.save(Resnet18.state_dict(), 'best_Resnet18_model_cifar10_distilled.pt')\n"
   ]
  },
  {
   "cell_type": "markdown",
   "metadata": {},
   "source": [
    "results after 3 epochs:\n",
    "\n",
    "alpha=0.2, temp=0.5: acc=35%\n",
    "alpha=0.2, temp=2: acc=43%\n",
    "alpha=0.5, temp=2: acc=43%\n",
    "alpha=0.5, temp=3.5: acc=58%\n",
    "alpha=0.5, temp=6: acc=58%\n",
    "alpha=0.8, temp=6: acc=57%\n"
   ]
  },
  {
   "cell_type": "code",
   "execution_count": 12,
   "metadata": {},
   "outputs": [
    {
     "name": "stdout",
     "output_type": "stream",
     "text": [
      "test error:\n",
      " Accuracy: 79.0%, Average loss: 1.207464 \n",
      "\n"
     ]
    }
   ],
   "source": [
    "Resnet18 = torchvision.models.resnet18(pretrained=True, progress=True)\n",
    "Resnet18.fc = nn.Linear(512, 10)\n",
    "Resnet18.load_state_dict(torch.load('best_Resnet18_model_cifar10_distilled.pt'))\n",
    "Resnet18.to(device)\n",
    "\n",
    "test_loss, test_acc = test_loop(test_dataloader, Resnet18, loss_func, device)\n"
   ]
  },
  {
   "cell_type": "markdown",
   "metadata": {},
   "source": [
    "# Jim: train Resnet18 from scratch"
   ]
  },
  {
   "cell_type": "code",
   "execution_count": 24,
   "metadata": {
    "pycharm": {
     "is_executing": true
    }
   },
   "outputs": [
    {
     "name": "stdout",
     "output_type": "stream",
     "text": [
      "Epoch: 1\n",
      "train error:\n",
      " Accuracy: 61.6%, Average loss: 1.113464\n",
      "test error:\n",
      " Accuracy: 74.4%, Average loss: 0.769129 \n",
      "\n",
      "Epoch: 2\n",
      "train error:\n",
      " Accuracy: 71.4%, Average loss: 0.838485\n",
      "test error:\n",
      " Accuracy: 77.0%, Average loss: 0.692982 \n",
      "\n",
      "Epoch: 3\n",
      "train error:\n",
      " Accuracy: 74.7%, Average loss: 0.738567\n",
      "test error:\n",
      " Accuracy: 77.4%, Average loss: 0.665003 \n",
      "\n",
      "Epoch: 4\n",
      "train error:\n",
      " Accuracy: 76.7%, Average loss: 0.675862\n",
      "test error:\n",
      " Accuracy: 80.2%, Average loss: 0.609891 \n",
      "\n",
      "Epoch: 5\n",
      "train error:\n",
      " Accuracy: 77.8%, Average loss: 0.643458\n",
      "test error:\n",
      " Accuracy: 79.8%, Average loss: 0.603748 \n",
      "\n",
      "Epoch: 6\n",
      "train error:\n",
      " Accuracy: 79.0%, Average loss: 0.605900\n",
      "test error:\n",
      " Accuracy: 81.0%, Average loss: 0.573960 \n",
      "\n",
      "Epoch: 7\n",
      "train error:\n",
      " Accuracy: 80.3%, Average loss: 0.571784\n",
      "test error:\n",
      " Accuracy: 81.3%, Average loss: 0.562396 \n",
      "\n",
      "Epoch: 8\n",
      "train error:\n",
      " Accuracy: 80.2%, Average loss: 0.575524\n",
      "test error:\n",
      " Accuracy: 81.0%, Average loss: 0.568751 \n",
      "\n",
      "Epoch: 9\n",
      "train error:\n",
      " Accuracy: 81.2%, Average loss: 0.539351\n",
      "test error:\n",
      " Accuracy: 82.2%, Average loss: 0.537525 \n",
      "\n",
      "Epoch: 10\n",
      "train error:\n",
      " Accuracy: 82.6%, Average loss: 0.501139\n",
      "test error:\n",
      " Accuracy: 81.9%, Average loss: 0.537399 \n",
      "\n",
      "Epoch: 11\n",
      "train error:\n",
      " Accuracy: 83.5%, Average loss: 0.478567\n",
      "test error:\n",
      " Accuracy: 82.0%, Average loss: 0.533220 \n",
      "\n",
      "Epoch: 12\n",
      "train error:\n",
      " Accuracy: 84.2%, Average loss: 0.456906\n",
      "test error:\n",
      " Accuracy: 82.5%, Average loss: 0.524575 \n",
      "\n",
      "Epoch: 13\n",
      "train error:\n",
      " Accuracy: 84.0%, Average loss: 0.455281\n",
      "test error:\n",
      " Accuracy: 82.3%, Average loss: 0.527959 \n",
      "\n",
      "Epoch: 14\n",
      "train error:\n",
      " Accuracy: 85.2%, Average loss: 0.423930\n",
      "test error:\n",
      " Accuracy: 82.5%, Average loss: 0.531794 \n",
      "\n",
      "Epoch: 15\n",
      "train error:\n",
      " Accuracy: 85.5%, Average loss: 0.414375\n",
      "test error:\n",
      " Accuracy: 82.8%, Average loss: 0.513819 \n",
      "\n",
      "Epoch: 16\n",
      "train error:\n",
      " Accuracy: 86.2%, Average loss: 0.396922\n",
      "test error:\n",
      " Accuracy: 82.8%, Average loss: 0.517298 \n",
      "\n",
      "Epoch: 17\n",
      "train error:\n",
      " Accuracy: 86.6%, Average loss: 0.383848\n",
      "test error:\n",
      " Accuracy: 82.8%, Average loss: 0.527079 \n",
      "\n",
      "Epoch: 18\n",
      "train error:\n",
      " Accuracy: 86.9%, Average loss: 0.370046\n",
      "test error:\n",
      " Accuracy: 82.0%, Average loss: 0.553980 \n",
      "\n",
      "Epoch: 19\n",
      "train error:\n",
      " Accuracy: 81.5%, Average loss: 0.540058\n",
      "test error:\n",
      " Accuracy: 82.9%, Average loss: 0.520159 \n",
      "\n",
      "Epoch: 20\n",
      "train error:\n",
      " Accuracy: 86.6%, Average loss: 0.378646\n",
      "test error:\n",
      " Accuracy: 82.9%, Average loss: 0.520595 \n",
      "\n"
     ]
    }
   ],
   "source": [
    "Resnet18 = torchvision.models.resnet18(pretrained=True, progress=True)\n",
    "\n",
    "Resnet18.fc = nn.Linear(512, 10)\n",
    "for param in Resnet18.parameters():\n",
    "    param.requires_grad = True\n",
    "\n",
    "Resnet18.to('cuda:0')\n",
    "\n",
    "loss_func = nn.CrossEntropyLoss()\n",
    "optimizer = torch.optim.Adam(Resnet18.parameters())\n",
    "\n",
    "best_acc = 0\n",
    "epochs = 20\n",
    "for epoch in range(epochs):\n",
    "  print(f\"Epoch: {epoch+1}\")\n",
    "  train_loss, train_acc = train_loop(train_dataloader, Resnet18, loss_func, optimizer, device)\n",
    "  test_loss, test_acc = test_loop(test_dataloader, Resnet18, loss_func, device)\n",
    "\n",
    "\n",
    "  if test_acc > best_acc:\n",
    "    best_acc = test_acc\n",
    "    torch.save(Resnet18.state_dict(), 'best_Resnet18_model_cifar10_scratch.pt')\n"
   ]
  },
  {
   "cell_type": "code",
   "execution_count": 25,
   "metadata": {},
   "outputs": [
    {
     "name": "stdout",
     "output_type": "stream",
     "text": [
      "test error:\n",
      " Accuracy: 82.9%, Average loss: 0.520595 \n",
      "\n"
     ]
    }
   ],
   "source": [
    "Resnet18 = torchvision.models.resnet18(pretrained=True, progress=True)\n",
    "Resnet18.fc = nn.Linear(512, 10)\n",
    "Resnet18.load_state_dict(torch.load('best_Resnet18_model_cifar10_scratch.pt'))\n",
    "Resnet18.to(device)\n",
    "\n",
    "test_loss, test_acc = test_loop(test_dataloader, Resnet18, loss_func, device)\n"
   ]
  },
  {
   "cell_type": "markdown",
   "metadata": {},
   "source": [
    "چون مدل آموزگار به خوبی تیون نشده است (فقط لایه آخر تیون شده) دقت روش distillation هم خوب نشده است."
   ]
  },
  {
   "cell_type": "markdown",
   "metadata": {},
   "source": [
    "# part D"
   ]
  },
  {
   "cell_type": "code",
   "execution_count": 19,
   "metadata": {
    "pycharm": {
     "is_executing": true
    }
   },
   "outputs": [
    {
     "name": "stdout",
     "output_type": "stream",
     "text": [
      "Epoch: 1\n",
      "train error:\n",
      " Accuracy: 60.1%, Average loss: 1.165939\n",
      "test error:\n",
      " Accuracy: 72.9%, Average loss: 0.803359 \n",
      "\n",
      "Epoch: 2\n",
      "train error:\n",
      " Accuracy: 66.4%, Average loss: 0.992998\n",
      "test error:\n",
      " Accuracy: 70.2%, Average loss: 0.885016 \n",
      "\n",
      "Epoch: 3\n",
      "train error:\n",
      " Accuracy: 62.6%, Average loss: 1.077368\n",
      "test error:\n",
      " Accuracy: 67.7%, Average loss: 0.931816 \n",
      "\n",
      "Epoch: 4\n",
      "train error:\n",
      " Accuracy: 68.6%, Average loss: 0.892583\n",
      "test error:\n",
      " Accuracy: 74.4%, Average loss: 0.735323 \n",
      "\n",
      "Epoch: 5\n",
      "train error:\n",
      " Accuracy: 73.6%, Average loss: 0.753297\n",
      "test error:\n",
      " Accuracy: 76.8%, Average loss: 0.678741 \n",
      "\n",
      "Epoch: 6\n",
      "train error:\n",
      " Accuracy: 75.0%, Average loss: 0.718164\n",
      "test error:\n",
      " Accuracy: 78.6%, Average loss: 0.636451 \n",
      "\n",
      "Epoch: 7\n",
      "train error:\n",
      " Accuracy: 75.9%, Average loss: 0.698502\n",
      "test error:\n",
      " Accuracy: 79.0%, Average loss: 0.636114 \n",
      "\n",
      "Epoch: 8\n",
      "train error:\n",
      " Accuracy: 78.6%, Average loss: 0.616628\n",
      "test error:\n",
      " Accuracy: 80.8%, Average loss: 0.561990 \n",
      "\n",
      "Epoch: 9\n",
      "train error:\n",
      " Accuracy: 79.6%, Average loss: 0.590107\n",
      "test error:\n",
      " Accuracy: 80.8%, Average loss: 0.571595 \n",
      "\n",
      "Epoch: 10\n",
      "train error:\n",
      " Accuracy: 80.7%, Average loss: 0.556675\n",
      "test error:\n",
      " Accuracy: 81.5%, Average loss: 0.554465 \n",
      "\n",
      "Epoch: 11\n",
      "train error:\n",
      " Accuracy: 80.8%, Average loss: 0.550592\n",
      "test error:\n",
      " Accuracy: 81.8%, Average loss: 0.551015 \n",
      "\n",
      "Epoch: 12\n",
      "train error:\n",
      " Accuracy: 81.7%, Average loss: 0.524050\n",
      "test error:\n",
      " Accuracy: 80.7%, Average loss: 0.579924 \n",
      "\n",
      "Epoch: 13\n",
      "train error:\n",
      " Accuracy: 82.3%, Average loss: 0.509620\n",
      "test error:\n",
      " Accuracy: 82.7%, Average loss: 0.515467 \n",
      "\n",
      "Epoch: 14\n",
      "train error:\n",
      " Accuracy: 83.3%, Average loss: 0.476447\n",
      "test error:\n",
      " Accuracy: 82.5%, Average loss: 0.530831 \n",
      "\n",
      "Epoch: 15\n",
      "train error:\n",
      " Accuracy: 83.7%, Average loss: 0.467934\n",
      "test error:\n",
      " Accuracy: 83.2%, Average loss: 0.522194 \n",
      "\n",
      "Epoch: 16\n",
      "train error:\n",
      " Accuracy: 84.4%, Average loss: 0.447712\n",
      "test error:\n",
      " Accuracy: 83.4%, Average loss: 0.512499 \n",
      "\n",
      "Epoch: 17\n",
      "train error:\n",
      " Accuracy: 84.9%, Average loss: 0.426026\n",
      "test error:\n",
      " Accuracy: 82.4%, Average loss: 0.524370 \n",
      "\n",
      "Epoch: 18\n",
      "train error:\n",
      " Accuracy: 79.7%, Average loss: 0.613781\n",
      "test error:\n",
      " Accuracy: 80.6%, Average loss: 0.604581 \n",
      "\n",
      "Epoch: 19\n",
      "train error:\n",
      " Accuracy: 83.8%, Average loss: 0.461087\n",
      "test error:\n",
      " Accuracy: 82.7%, Average loss: 0.532252 \n",
      "\n",
      "Epoch: 20\n",
      "train error:\n",
      " Accuracy: 85.9%, Average loss: 0.399186\n",
      "test error:\n",
      " Accuracy: 83.4%, Average loss: 0.515271 \n",
      "\n"
     ]
    }
   ],
   "source": [
    "Resnet50 = torchvision.models.resnet50(pretrained=True, progress=True)\n",
    "\n",
    "Resnet50.fc = nn.Linear(2048, 10)\n",
    "Resnet50.to(device)\n",
    "\n",
    "best_acc = 0\n",
    "epochs = 20\n",
    "\n",
    "for param in Resnet50.parameters():\n",
    "    param.requires_grad = True\n",
    "\n",
    "loss_func = nn.CrossEntropyLoss()\n",
    "optimizer = torch.optim.Adam(Resnet50.parameters())\n",
    "\n",
    "\n",
    "for epoch in range(epochs):\n",
    "  print(f\"Epoch: {epoch+1}\")\n",
    "  train_loss, train_acc = train_loop(train_dataloader, Resnet50, loss_func, optimizer, device)\n",
    "  test_loss, test_acc = test_loop(test_dataloader, Resnet50, loss_func, device)\n",
    "\n",
    "\n",
    "  if test_acc > best_acc:\n",
    "    best_acc = test_acc\n",
    "    torch.save(Resnet50.state_dict(), 'best_Resnet50_model_cifar10_finetune_all_network.pt')\n"
   ]
  },
  {
   "cell_type": "code",
   "execution_count": 20,
   "metadata": {},
   "outputs": [
    {
     "name": "stdout",
     "output_type": "stream",
     "text": [
      "test error:\n",
      " Accuracy: 83.4%, Average loss: 0.512499 \n",
      "\n"
     ]
    }
   ],
   "source": [
    "Resnet50 = torchvision.models.resnet50(pretrained=True, progress=True)\n",
    "Resnet50.fc = nn.Linear(2048, 10)\n",
    "Resnet50.load_state_dict(torch.load('best_Resnet50_model_cifar10_finetune_all_network.pt'))\n",
    "Resnet50.to(device)\n",
    "\n",
    "test_loss, test_acc = test_loop(test_dataloader, Resnet50, loss_func, device)\n"
   ]
  },
  {
   "cell_type": "code",
   "execution_count": 23,
   "metadata": {
    "scrolled": false
   },
   "outputs": [
    {
     "name": "stdout",
     "output_type": "stream",
     "text": [
      "Epoch: 1\n"
     ]
    },
    {
     "name": "stderr",
     "output_type": "stream",
     "text": [
      "C:\\Users\\amir\\AppData\\Roaming\\Python\\Python37\\site-packages\\ipykernel_launcher.py:38: UserWarning: Implicit dimension choice for softmax has been deprecated. Change the call to include dim=X as an argument.\n",
      "C:\\Users\\amir\\AppData\\Roaming\\Python\\Python37\\site-packages\\ipykernel_launcher.py:39: UserWarning: Implicit dimension choice for softmax has been deprecated. Change the call to include dim=X as an argument.\n",
      "C:\\Users\\amir\\AppData\\Roaming\\Python\\Python37\\site-packages\\ipykernel_launcher.py:40: UserWarning: Implicit dimension choice for softmax has been deprecated. Change the call to include dim=X as an argument.\n"
     ]
    },
    {
     "name": "stdout",
     "output_type": "stream",
     "text": [
      "train error:\n",
      " Accuracy: 58.3%, Average loss: 40.480923\n",
      "test error:\n",
      " Accuracy: 68.9%, Average loss: 5.476113 \n",
      "\n",
      "Epoch: 2\n",
      "train error:\n",
      " Accuracy: 67.5%, Average loss: 40.063201\n",
      "test error:\n",
      " Accuracy: 72.1%, Average loss: 5.122643 \n",
      "\n",
      "Epoch: 3\n",
      "train error:\n",
      " Accuracy: 70.2%, Average loss: 39.968451\n",
      "test error:\n",
      " Accuracy: 73.9%, Average loss: 4.512792 \n",
      "\n",
      "Epoch: 4\n",
      "train error:\n",
      " Accuracy: 72.2%, Average loss: 39.915855\n",
      "test error:\n",
      " Accuracy: 75.6%, Average loss: 3.962366 \n",
      "\n",
      "Epoch: 5\n",
      "train error:\n",
      " Accuracy: 73.7%, Average loss: 39.858017\n",
      "test error:\n",
      " Accuracy: 78.2%, Average loss: 3.540137 \n",
      "\n",
      "Epoch: 6\n",
      "train error:\n",
      " Accuracy: 74.7%, Average loss: 39.830589\n",
      "test error:\n",
      " Accuracy: 78.1%, Average loss: 3.501661 \n",
      "\n",
      "Epoch: 7\n",
      "train error:\n",
      " Accuracy: 76.0%, Average loss: 39.790882\n",
      "test error:\n",
      " Accuracy: 79.0%, Average loss: 3.204506 \n",
      "\n",
      "Epoch: 8\n",
      "train error:\n",
      " Accuracy: 76.7%, Average loss: 39.787288\n",
      "test error:\n",
      " Accuracy: 78.7%, Average loss: 3.249483 \n",
      "\n",
      "Epoch: 9\n",
      "train error:\n",
      " Accuracy: 77.9%, Average loss: 39.761470\n",
      "test error:\n",
      " Accuracy: 79.4%, Average loss: 3.225675 \n",
      "\n",
      "Epoch: 10\n",
      "train error:\n",
      " Accuracy: 78.0%, Average loss: 39.751995\n",
      "test error:\n",
      " Accuracy: 79.9%, Average loss: 3.046869 \n",
      "\n",
      "Epoch: 11\n",
      "train error:\n",
      " Accuracy: 78.3%, Average loss: 39.753760\n",
      "test error:\n",
      " Accuracy: 79.9%, Average loss: 3.105475 \n",
      "\n",
      "Epoch: 12\n",
      "train error:\n",
      " Accuracy: 78.8%, Average loss: 39.734727\n",
      "test error:\n",
      " Accuracy: 80.1%, Average loss: 3.183513 \n",
      "\n",
      "Epoch: 13\n",
      "train error:\n",
      " Accuracy: 79.5%, Average loss: 39.724898\n",
      "test error:\n",
      " Accuracy: 79.9%, Average loss: 3.122179 \n",
      "\n",
      "Epoch: 14\n",
      "train error:\n",
      " Accuracy: 79.8%, Average loss: 39.711397\n",
      "test error:\n",
      " Accuracy: 81.0%, Average loss: 2.822923 \n",
      "\n",
      "Epoch: 15\n",
      "train error:\n",
      " Accuracy: 80.1%, Average loss: 39.714726\n",
      "test error:\n",
      " Accuracy: 81.2%, Average loss: 2.999386 \n",
      "\n",
      "Epoch: 16\n",
      "train error:\n",
      " Accuracy: 80.7%, Average loss: 39.702340\n",
      "test error:\n",
      " Accuracy: 81.2%, Average loss: 2.901345 \n",
      "\n",
      "Epoch: 17\n",
      "train error:\n",
      " Accuracy: 81.0%, Average loss: 39.695287\n",
      "test error:\n",
      " Accuracy: 81.6%, Average loss: 2.918440 \n",
      "\n",
      "Epoch: 18\n",
      "train error:\n",
      " Accuracy: 81.3%, Average loss: 39.690841\n",
      "test error:\n",
      " Accuracy: 81.7%, Average loss: 3.031762 \n",
      "\n",
      "Epoch: 19\n",
      "train error:\n",
      " Accuracy: 81.3%, Average loss: 39.690715\n",
      "test error:\n",
      " Accuracy: 81.3%, Average loss: 2.789351 \n",
      "\n",
      "Epoch: 20\n",
      "train error:\n",
      " Accuracy: 81.4%, Average loss: 39.687106\n",
      "test error:\n",
      " Accuracy: 81.4%, Average loss: 2.902999 \n",
      "\n"
     ]
    }
   ],
   "source": [
    "# set batch size=16\n",
    "Resnet50 = torchvision.models.resnet50(pretrained=True, progress=True)\n",
    "Resnet50.fc = nn.Linear(2048, 10)\n",
    "Resnet50.load_state_dict(torch.load('best_Resnet50_model_cifar10_finetune_all_network.pt'))\n",
    "\n",
    "Resnet18 = torchvision.models.resnet18(pretrained=True, progress=True)\n",
    "Resnet18.fc = nn.Linear(512, 10)\n",
    "\n",
    "Resnet50.to(device)\n",
    "Resnet18.to(device)\n",
    "\n",
    "for param in Resnet18.parameters():\n",
    "    param.requires_grad = True\n",
    "    \n",
    "loss_func = my_distillation_loss\n",
    "loss_func_BCE = nn.CrossEntropyLoss()\n",
    "\n",
    "optimizer = torch.optim.Adam(Resnet18.parameters())\n",
    "\n",
    "best_acc = 0\n",
    "epochs = 20\n",
    "for epoch in range(epochs):\n",
    "  print(f\"Epoch: {epoch+1}\")\n",
    "  train_loss, train_acc = train_distillation(train_dataloader, Resnet50, Resnet18, loss_func, optimizer, device)\n",
    "  test_loss, test_acc = test_loop(test_dataloader, Resnet18, loss_func_BCE, device)\n",
    "\n",
    "\n",
    "  if test_acc > best_acc:\n",
    "    best_acc = test_acc\n",
    "    torch.save(Resnet18.state_dict(), 'best_Resnet18_model_cifar10_distilled_teacher_tuned_fully.pt')\n"
   ]
  },
  {
   "cell_type": "markdown",
   "metadata": {},
   "source": [
    "در صورت تیون کردن کل شبکه آموزگار دقت بهتری حاصل می شود. دقت روش distillation نیز نسبت به حالت قبل بهتر خواهد بود."
   ]
  }
 ],
 "metadata": {
  "kernelspec": {
   "display_name": "Python 3",
   "language": "python",
   "name": "python3"
  },
  "language_info": {
   "codemirror_mode": {
    "name": "ipython",
    "version": 3
   },
   "file_extension": ".py",
   "mimetype": "text/x-python",
   "name": "python",
   "nbconvert_exporter": "python",
   "pygments_lexer": "ipython3",
   "version": "3.7.0"
  },
  "pycharm": {
   "stem_cell": {
    "cell_type": "raw",
    "metadata": {
     "collapsed": false
    },
    "source": []
   }
  }
 },
 "nbformat": 4,
 "nbformat_minor": 1
}
